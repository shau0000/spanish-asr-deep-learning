{
 "cells": [
  {
   "cell_type": "code",
   "execution_count": 47,
   "metadata": {},
   "outputs": [
    {
     "name": "stdout",
     "output_type": "stream",
     "text": [
      "16000\n"
     ]
    }
   ],
   "source": [
    "import os\n",
    "import pandas as pd\n",
    "import librosa\n",
    "import numpy as np\n",
    "\n",
    "\n",
    "# Take only 30 audios per each label.\n",
    "# Our labels are \n",
    "labels = ['nine','six','happy','right','yes','no','noise']\n",
    "\n",
    "filepath_org ='./Data_Samples/speech_commands_v0.01/'\n",
    "filepath =\"\"\n",
    "data = {'filename': [],\n",
    "        'duration' : [],\n",
    "        'spectrum': [],\n",
    "        'labels':[]\n",
    "}\n",
    "#\n",
    "for label in labels:\n",
    "    for i in range(100):\n",
    "        filepath = filepath_org + label + '/' + label + '-' + str(i+1) + '.wav'\n",
    "        #With sample rate of 16KHz which is enough for hearing voice.\n",
    "        y, sr = librosa.load(filepath,sr=16000)\n",
    "        duration = librosa.get_duration(y=y, sr=sr)\n",
    "        #Not all have the same duration so we padd with zeros for those with duration < 1s.\n",
    "        y = librosa.util.fix_length(y, 22050)\n",
    "        mfccs = librosa.feature.mfcc(y=y, sr=sr, n_mfcc=12)\n",
    "        #print(y.shape)\n",
    "        #print(mfccs.shape)\n",
    "        data['filename'].append(filepath)\n",
    "        data['duration'].append(duration)\n",
    "        data['spectrum'].append(mfccs)\n",
    "        data['labels'].append(label)\n",
    "        if (label == 'noise'):\n",
    "            if i==5:\n",
    "                break\n",
    "\n",
    "df = pd.DataFrame(data)\n",
    "df.head(20)\n",
    "df.to_csv(filepath_org+'audio_metadata.csv')\n",
    "print(sr)\n",
    "\n",
    "\n",
    "\n",
    "\n",
    "\n",
    "   \n",
    "    "
   ]
  },
  {
   "cell_type": "code",
   "execution_count": 54,
   "metadata": {},
   "outputs": [
    {
     "name": "stdout",
     "output_type": "stream",
     "text": [
      "[[48 42]\n",
      " [49 49]\n",
      " [44 47]]\n",
      "[[0.75257669 0.65850461]\n",
      " [0.70710678 0.70710678]\n",
      " [0.68342429 0.7300214 ]]\n"
     ]
    }
   ],
   "source": [
    "import sklearn\n",
    "\n",
    "a = np.random.randint(40,50,(3,2))\n",
    "print(a)\n",
    "b = sklearn.preprocessing.normalize(a,norm='l2')\n",
    "print(b)"
   ]
  }
 ],
 "metadata": {
  "kernelspec": {
   "display_name": "Python 3",
   "language": "python",
   "name": "python3"
  },
  "language_info": {
   "codemirror_mode": {
    "name": "ipython",
    "version": 3
   },
   "file_extension": ".py",
   "mimetype": "text/x-python",
   "name": "python",
   "nbconvert_exporter": "python",
   "pygments_lexer": "ipython3",
   "version": "3.8.1"
  }
 },
 "nbformat": 4,
 "nbformat_minor": 2
}
